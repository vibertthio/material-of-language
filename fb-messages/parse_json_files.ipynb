{
 "cells": [
  {
   "cell_type": "markdown",
   "metadata": {},
   "source": [
    "# Facebook Messenger Data\n",
    "Hi all, this is my facebook messenger data parsing document."
   ]
  },
  {
   "cell_type": "code",
   "execution_count": 2,
   "metadata": {
    "scrolled": true
   },
   "outputs": [
    {
     "name": "stdout",
     "output_type": "stream",
     "text": [
      "\n",
      "total: 1119 files\n",
      "[0]: ./messages/inbox/stszuoyesan_igm9kgo29q-1/message_1.json\n",
      "[1]: ./messages/inbox/yurong_lvvfeb8qfw-1/message_1.json\n",
      "...\n",
      "      \n"
     ]
    }
   ],
   "source": [
    "import os, json\n",
    "import pandas as pd\n",
    "\n",
    "rootdir = './messages/inbox'\n",
    "paths = []\n",
    "for root, dirs, files in os.walk(rootdir):\n",
    "    for name in files:\n",
    "        if name.endswith((\".json\")):\n",
    "            full_path = os.path.join(root, name)\n",
    "            paths.append(full_path)\n",
    "print(f'''\n",
    "total: {len(paths)} files\n",
    "[0]: {paths[0]}\n",
    "[1]: {paths[1]}\n",
    "...\n",
    "      ''')\n"
   ]
  },
  {
   "cell_type": "markdown",
   "metadata": {},
   "source": [
    "# Format\n",
    "the message json file is formated like this:\n",
    "Some tips can be found [here](https://stackabuse.com/reading-and-writing-json-to-a-file-in-python/).\n",
    "\n",
    "```json\n",
    "{\n",
    "    \"participatns\": [\n",
    "        {\n",
    "            \"name\": \"Vibert Thio\"\n",
    "        },\n",
    "    ...],\n",
    "    \"messages\": [\n",
    "        {\n",
    "            \"sender_id_INTERNAL\": \"\",\n",
    "            \"sender_name\": \"Vibert Thio\",\n",
    "            \"timestamp_ms\": 1434350607403,\n",
    "            \"content\": \"\\u00e6\\u0088...\",\n",
    "            \"type\": \"Generic\"\n",
    "        },\n",
    "        ...\n",
    "    ],\n",
    "    \"title\": \"...\",\n",
    "    \"is_still_participant\": true,\n",
    "    \"thread_type\": \"Regular\", // \"RegularGroup\"\n",
    "    \"thread_path\": \"inbox/...\"\n",
    "}\n",
    "```"
   ]
  },
  {
   "cell_type": "code",
   "execution_count": 3,
   "metadata": {
    "scrolled": false
   },
   "outputs": [
    {
     "name": "stdout",
     "output_type": "stream",
     "text": [
      "\n",
      "chatrooms[0] participants:\n",
      "[{'name': 'è¨±å\\x93²æ¦\\x95'}, {'name': 'Vibert Thio'}, {'name': 'æ\\x9d\\x8eæ\\x80¡å\\x9d¤'}]\n",
      "\n"
     ]
    }
   ],
   "source": [
    "import json\n",
    "\n",
    "chatrooms = []\n",
    "for path in paths:\n",
    "    with open(path, encoding='utf-8') as json_file:\n",
    "        data = json.load(json_file)\n",
    "        chatrooms.append(data)\n",
    "\n",
    "print(f'''\n",
    "chatrooms[0] participants:\n",
    "{chatrooms[0]['participants']}\n",
    "''')"
   ]
  },
  {
   "cell_type": "markdown",
   "metadata": {},
   "source": [
    "# Inspect inside the data"
   ]
  },
  {
   "cell_type": "markdown",
   "metadata": {},
   "source": [
    "`encode('latin-1').decode('utf-8)`\n",
    "\n",
    "This is a hack (found [this](https://stackoverflow.com/questions/50008296/facebook-json-badly-encoded) on SO) to make chinese readable because facebook messed up the encoding.\n",
    "\n",
    "Fields that need to be transform this way include:\n",
    "\n",
    "```python\n",
    "chatrooms['participatns'][0]['name']\n",
    "chatrooms['messages'][0]['sender_name']\n",
    "chatrooms['messages'][0]['content']\n",
    "chatrooms['title']\n",
    "chatrooms['thread_path']\n",
    "```\n"
   ]
  },
  {
   "cell_type": "code",
   "execution_count": 4,
   "metadata": {},
   "outputs": [
    {
     "name": "stdout",
     "output_type": "stream",
     "text": [
      "[0]宇容\n",
      "[1]Vibert Thio\n"
     ]
    }
   ],
   "source": [
    "people = chatrooms[1]['participants']\n",
    "for i in range(len(people)):\n",
    "    print(f'''[{i}]{people[i]['name'].encode('latin-1').decode('UTF-8')}''')"
   ]
  },
  {
   "cell_type": "code",
   "execution_count": 5,
   "metadata": {
    "scrolled": true
   },
   "outputs": [],
   "source": [
    "def transformFromLatinToUTF8 (string):\n",
    "    return string.encode('latin-1').decode('UTF-8')\n",
    "\n",
    "shinyi_chatrooms = []\n",
    "for chatroom in chatrooms:\n",
    "    if 'participants' in chatroom.keys():\n",
    "        participants = chatroom['participants']\n",
    "        for person in participants:\n",
    "            person['name'] = transformFromLatinToUTF8(person['name'])\n",
    "            if person['name'] == '何昕逸':\n",
    "                shinyi_chatrooms.append(chatroom)\n",
    "    if 'messages' in chatroom.keys():\n",
    "        messages = chatroom['messages']\n",
    "        for message in messages:\n",
    "            if 'sender_name' in message.keys():\n",
    "                message['sender_name'] = transformFromLatinToUTF8(message['sender_name'])\n",
    "            if 'content' in message.keys():\n",
    "                message['content'] = transformFromLatinToUTF8(message['content'])\n",
    "    if 'title' in chatroom.keys():\n",
    "        chatroom['title'] = transformFromLatinToUTF8(chatroom['title'])\n",
    "    if 'thread_path' in chatroom.keys():\n",
    "        chatroom['thread_path'] = transformFromLatinToUTF8(chatroom['thread_path'])\n",
    "            "
   ]
  },
  {
   "cell_type": "markdown",
   "metadata": {},
   "source": [
    "I found that the order of the chatrooms is kinda chaos. They are not sorted by any obvious parameters, such as the created time. Also, everytime the number of messages exceeds 10000, the database will create a new chatroom."
   ]
  },
  {
   "cell_type": "code",
   "execution_count": 37,
   "metadata": {},
   "outputs": [
    {
     "name": "stdout",
     "output_type": "stream",
     "text": [
      "#messages count: 4\n",
      "#messages count: 10000\n",
      "#messages count: 10000\n",
      "#messages count: 10000\n",
      "#messages count: 6616\n",
      "#messages count: 10000\n",
      "#messages count: 570\n",
      "#messages count: 375\n",
      "#messages count: 340\n",
      "#messages count: 201\n",
      "#messages count: 386\n",
      "#messages count: 396\n",
      "#messages count: 12\n",
      "#messages count: 616\n",
      "---------------------\n",
      "chatrooms count: 14\n",
      "messages count: 49516\n"
     ]
    }
   ],
   "source": [
    "from datetime import datetime\n",
    "\n",
    "total_messages_count = 0\n",
    "for chatroom in shinyi_chatrooms:\n",
    "    messages = chatroom['messages']\n",
    "    count = len(messages)\n",
    "    print(f'#messages count: {count}')\n",
    "#     print(chatroom['title'])\n",
    "#     for i in range(4):\n",
    "#         if 'timestamp_ms' in messages[i].keys():\n",
    "#         sec = datetime.fromtimestamp(messages[-i]['timestamp_ms'] / 1000.0) \n",
    "#         print(f\"{sec} ({messages[-i]['type']})\")\n",
    "#         if 'content' in messages[-i].keys():\n",
    "#             print(f\"{messages[-i]['content']}\")\n",
    "#     print('-' * 20)\n",
    "    total_messages_count += count\n",
    "print('---------------------')\n",
    "print(f'chatrooms count: {len(shinyi_chatrooms)}')\n",
    "print(f'messages count: {total_messages_count}')"
   ]
  },
  {
   "cell_type": "markdown",
   "metadata": {},
   "source": [
    "# Get all the messages from Shinyi and sort by time"
   ]
  },
  {
   "cell_type": "code",
   "execution_count": 32,
   "metadata": {
    "scrolled": false
   },
   "outputs": [
    {
     "name": "stdout",
     "output_type": "stream",
     "text": [
      "\n",
      "Vibert Thio 2016/06/01\n",
      "黑你今天會去subway嘛~？\n",
      "\n",
      "何昕逸 2016/06/01\n",
      "應該不會歐～爆炸期末中QQ\n"
     ]
    }
   ],
   "source": [
    "messages = []\n",
    "for i in range(1, 6):\n",
    "    messages = messages + shinyi_chatrooms[i]['messages']\n",
    "messages = sorted(messages, key=lambda message: message['timestamp_ms'])\n",
    "for m in messages[:2]:\n",
    "    if 'content' in m.keys():\n",
    "        print(f'''\n",
    "{m['sender_name']} {datetime.fromtimestamp(m['timestamp_ms'] / 1000.0).strftime(\"%Y/%d/%m\")}\n",
    "{m['content']}''')"
   ]
  },
  {
   "cell_type": "code",
   "execution_count": 30,
   "metadata": {},
   "outputs": [],
   "source": [
    "import jieba\n",
    "jieba.set_dictionary('data/dict.txt.big.txt')"
   ]
  },
  {
   "cell_type": "code",
   "execution_count": 29,
   "metadata": {
    "scrolled": true
   },
   "outputs": [],
   "source": [
    "count = {}\n",
    "for m in messages:\n",
    "    if 'content' in m.keys():\n",
    "        seg_list = jieba.cut(m['content'])\n",
    "        for word in seg_list:\n",
    "            if word in count.keys():\n",
    "                count[word] = count[word] + 1\n",
    "            else:\n",
    "                count[word] = 1\n",
    "\n",
    "count = {k: v for k, v in sorted(count.items(), key=lambda item: -item[1])}"
   ]
  }
 ],
 "metadata": {
  "kernelspec": {
   "display_name": "Python 3",
   "language": "python",
   "name": "python3"
  },
  "language_info": {
   "codemirror_mode": {
    "name": "ipython",
    "version": 3
   },
   "file_extension": ".py",
   "mimetype": "text/x-python",
   "name": "python",
   "nbconvert_exporter": "python",
   "pygments_lexer": "ipython3",
   "version": "3.6.6"
  }
 },
 "nbformat": 4,
 "nbformat_minor": 2
}
