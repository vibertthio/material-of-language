{
 "cells": [
  {
   "cell_type": "markdown",
   "metadata": {},
   "source": [
    "# Facebook Messenger Data\n",
    "Hi all, this is my facebook messenger data parsing document."
   ]
  },
  {
   "cell_type": "code",
   "execution_count": 41,
   "metadata": {
    "scrolled": true
   },
   "outputs": [
    {
     "name": "stdout",
     "output_type": "stream",
     "text": [
      "\n",
      "total: 1119 files\n",
      "[0]: ./messages/inbox/stszuoyesan_igm9kgo29q-1/message_1.json\n",
      "[1]: ./messages/inbox/yurong_lvvfeb8qfw-1/message_1.json\n",
      "...\n",
      "      \n"
     ]
    }
   ],
   "source": [
    "import os, json\n",
    "import pandas as pd\n",
    "\n",
    "rootdir = './messages/inbox'\n",
    "paths = []\n",
    "for root, dirs, files in os.walk(rootdir):\n",
    "    for name in files:\n",
    "        if name.endswith((\".json\")):\n",
    "            full_path = os.path.join(root, name)\n",
    "            paths.append(full_path)\n",
    "print(f'''\n",
    "total: {len(paths)} files\n",
    "[0]: {paths[0]}\n",
    "[1]: {paths[1]}\n",
    "...\n",
    "      ''')\n"
   ]
  },
  {
   "cell_type": "markdown",
   "metadata": {},
   "source": [
    "# Format\n",
    "the message json file is formated like this:\n",
    "Some tips can be found [here](https://stackabuse.com/reading-and-writing-json-to-a-file-in-python/).\n",
    "\n",
    "```json\n",
    "{\n",
    "    \"participatns\": [\n",
    "        {\n",
    "            \"name\": \"Vibert Thio\"\n",
    "        },\n",
    "    ...],\n",
    "    \"messages\": [\n",
    "        {\n",
    "            \"sender_id_INTERNAL\": \"\",\n",
    "            \"sender_name\": \"Vibert Thio\",\n",
    "            \"timestamp_ms\": 1434350607403,\n",
    "            \"content\": \"\\u00e6\\u0088...\",\n",
    "            \"type\": \"Generic\"\n",
    "        },\n",
    "        ...\n",
    "    ],\n",
    "    \"title\": \"...\",\n",
    "    \"is_still_participant\": true,\n",
    "    \"thread_type\": \"Regular\", // \"RegularGroup\"\n",
    "    \"thread_path\": \"inbox/...\"\n",
    "}\n",
    "```"
   ]
  },
  {
   "cell_type": "code",
   "execution_count": 67,
   "metadata": {
    "scrolled": false
   },
   "outputs": [
    {
     "name": "stdout",
     "output_type": "stream",
     "text": [
      "\n",
      "chatrooms[0] participants:\n",
      "[{'name': 'è¨±å\\x93²æ¦\\x95'}, {'name': 'Vibert Thio'}, {'name': 'æ\\x9d\\x8eæ\\x80¡å\\x9d¤'}]\n",
      "\n"
     ]
    }
   ],
   "source": [
    "import json\n",
    "\n",
    "chatrooms = []\n",
    "for path in paths:\n",
    "    with open(path, encoding='utf-8') as json_file:\n",
    "        data = json.load(json_file)\n",
    "        chatrooms.append(data)\n",
    "\n",
    "print(f'''\n",
    "chatrooms[0] participants:\n",
    "{chatrooms[0]['participants']}\n",
    "''')"
   ]
  },
  {
   "cell_type": "markdown",
   "metadata": {},
   "source": [
    "# Inspect inside the data"
   ]
  },
  {
   "cell_type": "markdown",
   "metadata": {},
   "source": [
    "`encode('latin-1').decode('utf-8)`\n",
    "\n",
    "This is a hack (found [this](https://stackoverflow.com/questions/50008296/facebook-json-badly-encoded) on SO) to make chinese readable because facebook messed up the encoding.\n",
    "\n",
    "Fields that need to be transform this way include:\n",
    "\n",
    "```python\n",
    "chatrooms['participatns'][0]['name']\n",
    "chatrooms['messages'][0]['sender_name']\n",
    "chatrooms['messages'][0]['content']\n",
    "chatrooms['title']\n",
    "```\n"
   ]
  },
  {
   "cell_type": "code",
   "execution_count": 68,
   "metadata": {},
   "outputs": [
    {
     "name": "stdout",
     "output_type": "stream",
     "text": [
      "[0]許哲榕\n",
      "[1]Vibert Thio\n",
      "[2]李怡坤\n"
     ]
    }
   ],
   "source": [
    "people = chatrooms[1]['participants']\n",
    "for i in range(len(people)):\n",
    "    print(f'''[{i}]{people[i]['name'].encode('latin-1').decode('UTF-8')}''')"
   ]
  },
  {
   "cell_type": "code",
   "execution_count": 69,
   "metadata": {
    "scrolled": true
   },
   "outputs": [],
   "source": [
    "shinyi_chatrooms = []\n",
    "for chatroom in chatrooms:\n",
    "    if 'participants' in chatroom.keys():\n",
    "        people = chatroom['participants']\n",
    "        for i in range(len(people)):\n",
    "            chatroom['participants'][i]['name'] = people[i]['name'].encode('latin-1').decode('UTF-8')\n",
    "            if chatroom['participants'][i]['name'] == '何昕逸':\n",
    "                shinyi_chatrooms.append(chatroom)"
   ]
  },
  {
   "cell_type": "code",
   "execution_count": 70,
   "metadata": {
    "scrolled": true
   },
   "outputs": [
    {
     "name": "stdout",
     "output_type": "stream",
     "text": [
      "chatrooms count: 14\n",
      "messages count: 49516\n"
     ]
    }
   ],
   "source": [
    "total_messages_count = 0\n",
    "for chatroom in shinyi_chatrooms:\n",
    "    total_messages_count += len(chatroom['messages'])\n",
    "print(f'chatrooms count: {len(shinyi_chatrooms)}')\n",
    "print(f'messages count: {total_messages_count}')"
   ]
  },
  {
   "cell_type": "code",
   "execution_count": null,
   "metadata": {},
   "outputs": [],
   "source": []
  }
 ],
 "metadata": {
  "kernelspec": {
   "display_name": "Python 3",
   "language": "python",
   "name": "python3"
  },
  "language_info": {
   "codemirror_mode": {
    "name": "ipython",
    "version": 3
   },
   "file_extension": ".py",
   "mimetype": "text/x-python",
   "name": "python",
   "nbconvert_exporter": "python",
   "pygments_lexer": "ipython3",
   "version": "3.6.6"
  }
 },
 "nbformat": 4,
 "nbformat_minor": 2
}
